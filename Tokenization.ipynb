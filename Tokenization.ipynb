{
 "metadata": {
  "language_info": {
   "codemirror_mode": {
    "name": "ipython",
    "version": 3
   },
   "file_extension": ".py",
   "mimetype": "text/x-python",
   "name": "python",
   "nbconvert_exporter": "python",
   "pygments_lexer": "ipython3",
   "version": "3.8.2"
  },
  "orig_nbformat": 4,
  "kernelspec": {
   "name": "python3",
   "display_name": "Python 3.8.2 64-bit"
  },
  "interpreter": {
   "hash": "e404b59586357c814bc0d3940e75d6763c00a48753b225b81f7716971b8e1741"
  }
 },
 "nbformat": 4,
 "nbformat_minor": 2,
 "cells": [
  {
   "cell_type": "code",
   "execution_count": 8,
   "metadata": {},
   "outputs": [
    {
     "output_type": "execute_result",
     "data": {
      "text/plain": [
       "['Brooklyn',\n",
       " 'Nine-Nine',\n",
       " 'is',\n",
       " 'an',\n",
       " 'American',\n",
       " 'police',\n",
       " 'procedural',\n",
       " 'sitcom',\n",
       " 'television',\n",
       " 'series',\n",
       " 'created',\n",
       " 'by',\n",
       " 'Dan',\n",
       " 'Goor',\n",
       " 'and',\n",
       " 'Michael',\n",
       " 'Schur',\n",
       " 'for',\n",
       " 'Fox,',\n",
       " 'later',\n",
       " 'airing',\n",
       " 'on',\n",
       " 'NBC,',\n",
       " 'that',\n",
       " 'premiered',\n",
       " 'on',\n",
       " 'September',\n",
       " '17,',\n",
       " '2013',\n",
       " 'and',\n",
       " 'is',\n",
       " 'scheduled',\n",
       " 'to',\n",
       " 'air',\n",
       " 'the',\n",
       " 'series',\n",
       " 'finale',\n",
       " 'on',\n",
       " 'September',\n",
       " '16,',\n",
       " '2021.',\n",
       " 'The',\n",
       " 'series',\n",
       " 'revolves',\n",
       " 'around',\n",
       " 'Jake',\n",
       " 'Peralta',\n",
       " '(Andy',\n",
       " 'Samberg),',\n",
       " 'a',\n",
       " 'New',\n",
       " 'York',\n",
       " 'City',\n",
       " 'Police',\n",
       " 'Department',\n",
       " '(NYPD)',\n",
       " 'detective',\n",
       " 'in',\n",
       " \"Brooklyn's\",\n",
       " 'fictional',\n",
       " '99th',\n",
       " 'Precinct,',\n",
       " 'who',\n",
       " 'often',\n",
       " 'comes',\n",
       " 'into',\n",
       " 'conflict',\n",
       " 'with',\n",
       " 'his',\n",
       " 'commanding',\n",
       " 'officer,',\n",
       " 'the',\n",
       " 'serious',\n",
       " 'and',\n",
       " 'stern',\n",
       " 'Captain',\n",
       " 'Raymond',\n",
       " 'Holt',\n",
       " '(Andre',\n",
       " 'Braugher).',\n",
       " 'The',\n",
       " 'rest',\n",
       " 'of',\n",
       " 'the',\n",
       " 'cast',\n",
       " 'features',\n",
       " 'Stephanie',\n",
       " 'Beatriz',\n",
       " 'as',\n",
       " 'Rosa',\n",
       " 'Diaz,',\n",
       " 'Terry',\n",
       " 'Crews',\n",
       " 'as',\n",
       " 'Terry',\n",
       " 'Jeffords,',\n",
       " 'Melissa',\n",
       " 'Fumero',\n",
       " 'as',\n",
       " 'Amy',\n",
       " 'Santiago,',\n",
       " 'Joe',\n",
       " 'Lo',\n",
       " 'Truglio',\n",
       " 'as',\n",
       " 'Charles',\n",
       " 'Boyle,',\n",
       " 'Chelsea',\n",
       " 'Peretti',\n",
       " 'as',\n",
       " 'Gina',\n",
       " 'Linetti,',\n",
       " 'Dirk',\n",
       " 'Blocker',\n",
       " 'as',\n",
       " 'Michael',\n",
       " 'Hitchcock,',\n",
       " 'and',\n",
       " 'Joel',\n",
       " 'McKinnon',\n",
       " 'Miller',\n",
       " 'as',\n",
       " 'Norm',\n",
       " 'Scully']"
      ]
     },
     "metadata": {},
     "execution_count": 8
    }
   ],
   "source": [
    "text = \"Brooklyn Nine-Nine is an American police procedural sitcom television series created by Dan Goor and Michael Schur for Fox, later airing on NBC, that premiered on September 17, 2013 and is scheduled to air the series finale on September 16, 2021. The series revolves around Jake Peralta (Andy Samberg), a New York City Police Department (NYPD) detective in Brooklyn's fictional 99th Precinct, who often comes into conflict with his commanding officer, the serious and stern Captain Raymond Holt (Andre Braugher). The rest of the cast features Stephanie Beatriz as Rosa Diaz, Terry Crews as Terry Jeffords, Melissa Fumero as Amy Santiago, Joe Lo Truglio as Charles Boyle, Chelsea Peretti as Gina Linetti, Dirk Blocker as Michael Hitchcock, and Joel McKinnon Miller as Norm Scully\"\n",
    "\n",
    "text.split(\" \")"
   ]
  },
  {
   "cell_type": "code",
   "execution_count": 9,
   "metadata": {},
   "outputs": [
    {
     "output_type": "execute_result",
     "data": {
      "text/plain": [
       "['Brooklyn',\n",
       " 'Nine-Nine',\n",
       " 'is',\n",
       " 'an',\n",
       " 'American',\n",
       " 'police',\n",
       " 'procedural',\n",
       " 'sitcom',\n",
       " 'television',\n",
       " 'series',\n",
       " 'created',\n",
       " 'by',\n",
       " 'Dan',\n",
       " 'Goor',\n",
       " 'and',\n",
       " 'Michael',\n",
       " 'Schur',\n",
       " 'for',\n",
       " 'Fox',\n",
       " ',',\n",
       " 'later',\n",
       " 'airing',\n",
       " 'on',\n",
       " 'NBC',\n",
       " ',',\n",
       " 'that',\n",
       " 'premiered',\n",
       " 'on',\n",
       " 'September',\n",
       " '17',\n",
       " ',',\n",
       " '2013',\n",
       " 'and',\n",
       " 'is',\n",
       " 'scheduled',\n",
       " 'to',\n",
       " 'air',\n",
       " 'the',\n",
       " 'series',\n",
       " 'finale',\n",
       " 'on',\n",
       " 'September',\n",
       " '16',\n",
       " ',',\n",
       " '2021',\n",
       " '.',\n",
       " 'The',\n",
       " 'series',\n",
       " 'revolves',\n",
       " 'around',\n",
       " 'Jake',\n",
       " 'Peralta',\n",
       " '(',\n",
       " 'Andy',\n",
       " 'Samberg',\n",
       " ')',\n",
       " ',',\n",
       " 'a',\n",
       " 'New',\n",
       " 'York',\n",
       " 'City',\n",
       " 'Police',\n",
       " 'Department',\n",
       " '(',\n",
       " 'NYPD',\n",
       " ')',\n",
       " 'detective',\n",
       " 'in',\n",
       " 'Brooklyn',\n",
       " \"'s\",\n",
       " 'fictional',\n",
       " '99th',\n",
       " 'Precinct',\n",
       " ',',\n",
       " 'who',\n",
       " 'often',\n",
       " 'comes',\n",
       " 'into',\n",
       " 'conflict',\n",
       " 'with',\n",
       " 'his',\n",
       " 'commanding',\n",
       " 'officer',\n",
       " ',',\n",
       " 'the',\n",
       " 'serious',\n",
       " 'and',\n",
       " 'stern',\n",
       " 'Captain',\n",
       " 'Raymond',\n",
       " 'Holt',\n",
       " '(',\n",
       " 'Andre',\n",
       " 'Braugher',\n",
       " ')',\n",
       " '.',\n",
       " 'The',\n",
       " 'rest',\n",
       " 'of',\n",
       " 'the',\n",
       " 'cast',\n",
       " 'features',\n",
       " 'Stephanie',\n",
       " 'Beatriz',\n",
       " 'as',\n",
       " 'Rosa',\n",
       " 'Diaz',\n",
       " ',',\n",
       " 'Terry',\n",
       " 'Crews',\n",
       " 'as',\n",
       " 'Terry',\n",
       " 'Jeffords',\n",
       " ',',\n",
       " 'Melissa',\n",
       " 'Fumero',\n",
       " 'as',\n",
       " 'Amy',\n",
       " 'Santiago',\n",
       " ',',\n",
       " 'Joe',\n",
       " 'Lo',\n",
       " 'Truglio',\n",
       " 'as',\n",
       " 'Charles',\n",
       " 'Boyle',\n",
       " ',',\n",
       " 'Chelsea',\n",
       " 'Peretti',\n",
       " 'as',\n",
       " 'Gina',\n",
       " 'Linetti',\n",
       " ',',\n",
       " 'Dirk',\n",
       " 'Blocker',\n",
       " 'as',\n",
       " 'Michael',\n",
       " 'Hitchcock',\n",
       " ',',\n",
       " 'and',\n",
       " 'Joel',\n",
       " 'McKinnon',\n",
       " 'Miller',\n",
       " 'as',\n",
       " 'Norm',\n",
       " 'Scully']"
      ]
     },
     "metadata": {},
     "execution_count": 9
    }
   ],
   "source": [
    "from nltk.tokenize import word_tokenize\n",
    "word_tokenize(text)"
   ]
  },
  {
   "cell_type": "code",
   "execution_count": 10,
   "metadata": {},
   "outputs": [
    {
     "output_type": "stream",
     "name": "stdout",
     "text": [
      "cat\n"
     ]
    }
   ],
   "source": [
    "from textblob import TextBlob, Word\n",
    "  \n",
    "my_word = 'cats'\n",
    "  \n",
    "\n",
    "w = Word(my_word)\n",
    "  \n",
    "print(w.lemmatize())\n",
    "\n",
    "  \n"
   ]
  },
  {
   "cell_type": "code",
   "execution_count": null,
   "metadata": {},
   "outputs": [],
   "source": [
    "text = \"Brooklyn Nine-Nine is an American police procedural sitcom television series created by Dan Goor and Michael Schur for Fox, later airing on NBC, that premiered on September 17, 2013 and is scheduled to air the series finale on September 16, 2021. The series revolves around Jake Peralta (Andy Samberg), a New York City Police Department (NYPD) detective in Brooklyn's fictional 99th Precinct, who often comes into conflict with his commanding officer, the serious and stern Captain Raymond Holt (Andre Braugher). The rest of the cast features Stephanie Beatriz as Rosa Diaz, Terry Crews as Terry Jeffords, Melissa Fumero as Amy Santiago, Joe Lo Truglio as Charles Boyle, Chelsea Peretti as Gina Linetti, Dirk Blocker as Michael Hitchcock, and Joel McKinnon Miller as Norm Scully\""
   ]
  },
  {
   "cell_type": "code",
   "execution_count": 11,
   "metadata": {},
   "outputs": [
    {
     "output_type": "stream",
     "name": "stdout",
     "text": [
      "Brooklyn Nine-Nine is an American police procedural sitcom television series created by Dan Goor and Michael Schur for Fox later airing on NBC that premiered on September 17 2013 and is scheduled to air the series finale on September 16 2021 The series revolves around Jake Peralta Andy Samberg a New York City Police Department NYPD detective in Brooklyn 's fictional 99th Precinct who often come into conflict with his commanding officer the serious and stern Captain Raymond Holt Andre Braugher The rest of the cast feature Stephanie Beatriz a Rosa Diaz Terry Crews a Terry Jeffords Melissa Fumero a Amy Santiago Joe Lo Truglio a Charles Boyle Chelsea Peretti a Gina Linetti Dirk Blocker a Michael Hitchcock and Joel McKinnon Miller a Norm Scully\n"
     ]
    }
   ],
   "source": [
    "#sentence = 'the bats saw the cats with stripes hanging upside down by their feet.'\n",
    "  \n",
    "s = TextBlob(text)\n",
    "lemmatized_sentence = \" \".join([w.lemmatize() for w in s.words])\n",
    "  \n",
    "print(lemmatized_sentence)\n",
    "#> the bat saw the cat with stripe hanging upside down by their foot"
   ]
  },
  {
   "cell_type": "code",
   "execution_count": 14,
   "metadata": {},
   "outputs": [
    {
     "output_type": "stream",
     "name": "stdout",
     "text": [
      "['Bill', 'works', 'for', 'Apple', 'so', 'he', 'went', 'to', 'Boston', 'for', 'a', 'conference']\n"
     ]
    }
   ],
   "source": [
    "from nltk import word_tokenize, pos_tag, ne_chunk\n",
    "sentence=\"Bill works for Apple so he went to Boston for a conference\"\n",
    "tokens = word_tokenize(sentence)\n",
    "print(tokens)"
   ]
  },
  {
   "cell_type": "code",
   "execution_count": 15,
   "metadata": {},
   "outputs": [
    {
     "output_type": "stream",
     "name": "stdout",
     "text": [
      "[('Bill', 'NNP'), ('works', 'VBZ'), ('for', 'IN'), ('Apple', 'NNP'), ('so', 'IN'), ('he', 'PRP'), ('went', 'VBD'), ('to', 'TO'), ('Boston', 'NNP'), ('for', 'IN'), ('a', 'DT'), ('conference', 'NN')]\n"
     ]
    }
   ],
   "source": [
    "pos_tags = pos_tag(tokens)\n",
    "print(pos_tags)"
   ]
  },
  {
   "cell_type": "code",
   "execution_count": 16,
   "metadata": {},
   "outputs": [
    {
     "output_type": "stream",
     "name": "stdout",
     "text": [
      "(S\n  (PERSON Bill/NNP)\n  works/VBZ\n  for/IN\n  Apple/NNP\n  so/IN\n  he/PRP\n  went/VBD\n  to/TO\n  (GPE Boston/NNP)\n  for/IN\n  a/DT\n  conference/NN)\n"
     ]
    }
   ],
   "source": [
    "named_entities = ne_chunk(pos_tags)\n",
    "print(named_entities)"
   ]
  },
  {
   "cell_type": "code",
   "execution_count": null,
   "metadata": {},
   "outputs": [],
   "source": []
  }
 ]
}