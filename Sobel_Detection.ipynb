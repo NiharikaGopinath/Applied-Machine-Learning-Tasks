{
 "cells": [
  {
   "cell_type": "code",
   "execution_count": 2,
   "source": [
    "import numpy as np\r\n",
    "\r\n",
    "import cv2\r\n",
    "import argparse\r\n",
    "import matplotlib.pyplot as plt\r\n",
    "from Computer_Vision.Sobel_Edge_Detection.convolution import convolution\r\n",
    "from Computer_Vision.Sobel_Edge_Detection.gaussian_smoothing import gaussian_blur\r\n",
    " \r\n",
    " \r\n",
    "def sobel_edge_detection(image, filter, verbose=False):\r\n",
    "    new_image_x = convolution(image, filter, verbose)\r\n",
    " \r\n",
    "    if verbose:\r\n",
    "        plt.imshow(new_image_x, cmap='gray')\r\n",
    "        plt.title(\"Horizontal Edge\")\r\n",
    "        plt.show()\r\n",
    " \r\n",
    "    new_image_y = convolution(image, np.flip(filter.T, axis=0), verbose)\r\n",
    " \r\n",
    "    if verbose:\r\n",
    "        plt.imshow(new_image_y, cmap='gray')\r\n",
    "        plt.title(\"Vertical Edge\")\r\n",
    "        plt.show()\r\n",
    " \r\n",
    "    gradient_magnitude = np.sqrt(np.square(new_image_x) + np.square(new_image_y))\r\n",
    " \r\n",
    "    gradient_magnitude *= 255.0 / gradient_magnitude.max()\r\n",
    " \r\n",
    "    if verbose:\r\n",
    "        plt.imshow(gradient_magnitude, cmap='gray')\r\n",
    "        plt.title(\"Gradient Magnitude\")\r\n",
    "        plt.show()\r\n",
    " \r\n",
    "    return gradient_magnitude\r\n",
    " \r\n",
    " \r\n",
    "if __name__ == '__main__':\r\n",
    "    filter = np.array([[-1, 0, 1], [-2, 0, 2], [-1, 0, 1]])\r\n",
    " \r\n",
    "    ap = argparse.ArgumentParser()\r\n",
    "    ap.add_argument(\"-i\", \"--image\", required=True, help=\"Path to the image\")\r\n",
    "    args = vars(ap.parse_args())\r\n",
    " \r\n",
    "    image = cv2.imread(args[\"image\"])\r\n",
    "    image = gaussian_blur(image, 9, verbose=True)\r\n",
    "    sobel_edge_detection(image, filter, verbose=True)"
   ],
   "outputs": [
    {
     "output_type": "error",
     "ename": "ModuleNotFoundError",
     "evalue": "No module named 'Computer_Vision'",
     "traceback": [
      "\u001b[1;31m---------------------------------------------------------------------------\u001b[0m",
      "\u001b[1;31mModuleNotFoundError\u001b[0m                       Traceback (most recent call last)",
      "\u001b[1;32m<ipython-input-2-797cf2c59856>\u001b[0m in \u001b[0;36m<module>\u001b[1;34m\u001b[0m\n\u001b[0;32m      4\u001b[0m \u001b[1;32mimport\u001b[0m \u001b[0margparse\u001b[0m\u001b[1;33m\u001b[0m\u001b[1;33m\u001b[0m\u001b[0m\n\u001b[0;32m      5\u001b[0m \u001b[1;32mimport\u001b[0m \u001b[0mmatplotlib\u001b[0m\u001b[1;33m.\u001b[0m\u001b[0mpyplot\u001b[0m \u001b[1;32mas\u001b[0m \u001b[0mplt\u001b[0m\u001b[1;33m\u001b[0m\u001b[1;33m\u001b[0m\u001b[0m\n\u001b[1;32m----> 6\u001b[1;33m \u001b[1;32mfrom\u001b[0m \u001b[0mComputer_Vision\u001b[0m\u001b[1;33m.\u001b[0m\u001b[0mSobel_Edge_Detection\u001b[0m\u001b[1;33m.\u001b[0m\u001b[0mconvolution\u001b[0m \u001b[1;32mimport\u001b[0m \u001b[0mconvolution\u001b[0m\u001b[1;33m\u001b[0m\u001b[1;33m\u001b[0m\u001b[0m\n\u001b[0m\u001b[0;32m      7\u001b[0m \u001b[1;32mfrom\u001b[0m \u001b[0mComputer_Vision\u001b[0m\u001b[1;33m.\u001b[0m\u001b[0mSobel_Edge_Detection\u001b[0m\u001b[1;33m.\u001b[0m\u001b[0mgaussian_smoothing\u001b[0m \u001b[1;32mimport\u001b[0m \u001b[0mgaussian_blur\u001b[0m\u001b[1;33m\u001b[0m\u001b[1;33m\u001b[0m\u001b[0m\n\u001b[0;32m      8\u001b[0m \u001b[1;33m\u001b[0m\u001b[0m\n",
      "\u001b[1;31mModuleNotFoundError\u001b[0m: No module named 'Computer_Vision'"
     ]
    }
   ],
   "metadata": {}
  },
  {
   "cell_type": "code",
   "execution_count": null,
   "source": [],
   "outputs": [],
   "metadata": {}
  }
 ],
 "metadata": {
  "orig_nbformat": 4,
  "language_info": {
   "name": "python",
   "version": "3.8.2",
   "mimetype": "text/x-python",
   "codemirror_mode": {
    "name": "ipython",
    "version": 3
   },
   "pygments_lexer": "ipython3",
   "nbconvert_exporter": "python",
   "file_extension": ".py"
  },
  "kernelspec": {
   "name": "python3",
   "display_name": "Python 3.8.2 64-bit"
  },
  "interpreter": {
   "hash": "e404b59586357c814bc0d3940e75d6763c00a48753b225b81f7716971b8e1741"
  }
 },
 "nbformat": 4,
 "nbformat_minor": 2
}