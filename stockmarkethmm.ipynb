{
 "cells": [
  {
   "cell_type": "code",
   "execution_count": 6,
   "source": [
    "import pandas as pd\r\n",
    "import numpy as np\r\n",
    "import yfinance as yf\r\n",
    "import matplotlib.pyplot as plt\r\n",
    "from matplotlib import cm\r\n",
    "import tqdm\r\n",
    "from sklearn import preprocessing, mixture\r\n",
    "from hmmlearn import hmm"
   ],
   "outputs": [],
   "metadata": {}
  },
  {
   "cell_type": "code",
   "execution_count": 7,
   "source": [
    "NASDAQ = yf.Ticker(\"GOOG\")"
   ],
   "outputs": [],
   "metadata": {}
  },
  {
   "cell_type": "code",
   "execution_count": 8,
   "source": [
    "hist = NASDAQ.history(period='max')\r\n",
    "hist['Daily Return'] = np.log(hist['Close'] / hist['Close'].shift(1))\r\n",
    "hist = hist.loc['1999-01-01':]\r\n",
    "hist.reset_index(inplace = True)\r\n",
    "# hist = hist.set_index('Date')\r\n",
    "# print(hist.head())\r\n",
    "print(hist.tail())"
   ],
   "outputs": [
    {
     "output_type": "stream",
     "name": "stdout",
     "text": [
      "           Date         Open         High          Low        Close   Volume  \\\n",
      "4296 2021-09-13  2864.020020  2883.820068  2845.649902  2869.300049  1008800   \n",
      "4297 2021-09-14  2883.219971  2894.550049  2858.110107  2868.120117   945800   \n",
      "4298 2021-09-15  2875.179932  2911.629883  2845.120117  2904.120117  1032400   \n",
      "4299 2021-09-16  2902.419922  2904.000000  2868.326904  2887.469971  1014600   \n",
      "4300 2021-09-17  2875.969971  2884.989990  2821.229980  2829.270020  2929500   \n",
      "\n",
      "      Dividends  Stock Splits  Daily Return  \n",
      "4296          0           0.0      0.010821  \n",
      "4297          0           0.0     -0.000411  \n",
      "4298          0           0.0      0.012474  \n",
      "4299          0           0.0     -0.005750  \n",
      "4300          0           0.0     -0.020362  \n"
     ]
    }
   ],
   "metadata": {}
  },
  {
   "cell_type": "code",
   "execution_count": 9,
   "source": [
    "plt.title('Google')\r\n",
    "# plt.xticks(ticks = hist['Date'])\r\n",
    "plt.ylabel('Closing Price')\r\n",
    "close = plt.plot(hist['Close'])"
   ],
   "outputs": [
    {
     "output_type": "display_data",
     "data": {
      "image/png": "[encoded data removed]",
      "text/plain": [
       "<Figure size 432x288 with 1 Axes>"
      ]
     },
     "metadata": {
      "needs_background": "light"
     }
    }
   ],
   "metadata": {}
  },
  {
   "cell_type": "code",
   "execution_count": 10,
   "source": [
    "num_ID = 30000\r\n",
    "features = []\r\n",
    "for i in tqdm.tqdm(range(num_ID)):\r\n",
    "    window = np.random.randint(20,40)\r\n",
    "    start_ind = np.random.randint(0, len(hist) - window)\r\n",
    "    watch = hist.iloc[start_ind : start_ind + window]\r\n",
    "    end_date = max(watch['Date'])\r\n",
    "    \r\n",
    "    # Types of feature, each with chaining of length equals to window size\r\n",
    "    volume_change = watch['Volume'].pct_change()\r\n",
    "    exc_high = (watch['High'] - watch['Open']) / watch['Open']\r\n",
    "    exc_low = (watch['Open'] - watch['Low']) / watch['Low']\r\n",
    "    daily_change = (watch['Close'] - watch['Open']) / watch['Open']\r\n",
    "    forcast = (watch['Open'].shift(-1) - watch['Open'])\r\n",
    "    logret_w1 = np.log(watch['Close']/watch['Close'].shift(1))\r\n",
    "    close = watch['Close']\r\n",
    "    features.append(pd.DataFrame({'ID': [i] * window,\r\n",
    "                                  'Window Size': [window] * window,\r\n",
    "                                  'End Date': [end_date] * window,\r\n",
    "                                  'Volume Change': volume_change,\r\n",
    "                                  'Excessive High': exc_high,\r\n",
    "                                  'Excessive Low': exc_low,\r\n",
    "                                  'Daily Change': daily_change,\r\n",
    "                                  'Daily Return': logret_w1,\r\n",
    "                                  'Forcasted Change': forcast,\r\n",
    "                                  'Close': close}))\r\n",
    "featured = pd.concat(features)"
   ],
   "outputs": [
    {
     "output_type": "stream",
     "name": "stderr",
     "text": [
      "100%|██████████| 30000/30000 [02:58<00:00, 167.71it/s]\n"
     ]
    }
   ],
   "metadata": {}
  },
  {
   "cell_type": "code",
   "execution_count": 12,
   "source": [
    "\r\n",
    "def norm(data):\r\n",
    "    data = preprocessing.scale(data)\r\n",
    "    return data"
   ],
   "outputs": [],
   "metadata": {}
  },
  {
   "cell_type": "code",
   "execution_count": 19,
   "source": [
    "X = pd.DataFrame()\r\n",
    "X['Close'] = norm(compact['Close'].values)\r\n",
    "X['Daily Change'] = norm(compact['Daily Change'].values)\r\n",
    "X['Volume Change'] = norm(compact['Volume Change'].values)\r\n",
    "X['Excessive High'] = norm(compact['Excessive High'].values)\r\n",
    "X['Excessive Low'] = norm(compact['Excessive Low'].values)\r\n",
    "X['Forcasted Change'] = norm(compact['Forcasted Change'].values)\r\n",
    "X['Daily Return'] = norm(compact['Daily Return'].values)\r\n",
    "X.index = compact.index\r\n",
    "X = X.reset_index()\r\n",
    "features = ['Close', 'Daily Change', 'Volume Change', 'Excessive High', 'Excessive Low', 'Forcasted Change', 'Daily Return' ]"
   ],
   "outputs": [
    {
     "output_type": "error",
     "ename": "ValueError",
     "evalue": "could not convert string to float: 'Close'",
     "traceback": [
      "\u001b[1;31m---------------------------------------------------------------------------\u001b[0m",
      "\u001b[1;31mValueError\u001b[0m                                Traceback (most recent call last)",
      "\u001b[1;32m<ipython-input-19-a628ca1c53cd>\u001b[0m in \u001b[0;36m<module>\u001b[1;34m\u001b[0m\n\u001b[0;32m      1\u001b[0m \u001b[0mX\u001b[0m \u001b[1;33m=\u001b[0m \u001b[0mpd\u001b[0m\u001b[1;33m.\u001b[0m\u001b[0mDataFrame\u001b[0m\u001b[1;33m(\u001b[0m\u001b[1;33m)\u001b[0m\u001b[1;33m\u001b[0m\u001b[1;33m\u001b[0m\u001b[0m\n\u001b[1;32m----> 2\u001b[1;33m \u001b[0mX\u001b[0m\u001b[1;33m[\u001b[0m\u001b[1;34m'Close'\u001b[0m\u001b[1;33m]\u001b[0m \u001b[1;33m=\u001b[0m \u001b[0mnorm\u001b[0m\u001b[1;33m(\u001b[0m\u001b[1;33m[\u001b[0m\u001b[1;34m'Close'\u001b[0m\u001b[1;33m]\u001b[0m\u001b[1;33m)\u001b[0m\u001b[1;33m\u001b[0m\u001b[1;33m\u001b[0m\u001b[0m\n\u001b[0m\u001b[0;32m      3\u001b[0m \"\"\"X['Daily Change'] = norm(compact['Daily Change'].values)\n\u001b[0;32m      4\u001b[0m \u001b[0mX\u001b[0m\u001b[1;33m[\u001b[0m\u001b[1;34m'Volume Change'\u001b[0m\u001b[1;33m]\u001b[0m \u001b[1;33m=\u001b[0m \u001b[0mnorm\u001b[0m\u001b[1;33m(\u001b[0m\u001b[0mcompact\u001b[0m\u001b[1;33m[\u001b[0m\u001b[1;34m'Volume Change'\u001b[0m\u001b[1;33m]\u001b[0m\u001b[1;33m.\u001b[0m\u001b[0mvalues\u001b[0m\u001b[1;33m)\u001b[0m\u001b[1;33m\u001b[0m\u001b[1;33m\u001b[0m\u001b[0m\n\u001b[0;32m      5\u001b[0m \u001b[0mX\u001b[0m\u001b[1;33m[\u001b[0m\u001b[1;34m'Excessive High'\u001b[0m\u001b[1;33m]\u001b[0m \u001b[1;33m=\u001b[0m \u001b[0mnorm\u001b[0m\u001b[1;33m(\u001b[0m\u001b[0mcompact\u001b[0m\u001b[1;33m[\u001b[0m\u001b[1;34m'Excessive High'\u001b[0m\u001b[1;33m]\u001b[0m\u001b[1;33m.\u001b[0m\u001b[0mvalues\u001b[0m\u001b[1;33m)\u001b[0m\u001b[1;33m\u001b[0m\u001b[1;33m\u001b[0m\u001b[0m\n",
      "\u001b[1;32m<ipython-input-12-c161bbd71cb7>\u001b[0m in \u001b[0;36mnorm\u001b[1;34m(data)\u001b[0m\n\u001b[0;32m      1\u001b[0m \u001b[1;32mdef\u001b[0m \u001b[0mnorm\u001b[0m\u001b[1;33m(\u001b[0m\u001b[0mdata\u001b[0m\u001b[1;33m)\u001b[0m\u001b[1;33m:\u001b[0m\u001b[1;33m\u001b[0m\u001b[1;33m\u001b[0m\u001b[0m\n\u001b[1;32m----> 2\u001b[1;33m     \u001b[0mdata\u001b[0m \u001b[1;33m=\u001b[0m \u001b[0mpreprocessing\u001b[0m\u001b[1;33m.\u001b[0m\u001b[0mscale\u001b[0m\u001b[1;33m(\u001b[0m\u001b[0mdata\u001b[0m\u001b[1;33m)\u001b[0m\u001b[1;33m\u001b[0m\u001b[1;33m\u001b[0m\u001b[0m\n\u001b[0m\u001b[0;32m      3\u001b[0m     \u001b[1;32mreturn\u001b[0m \u001b[0mdata\u001b[0m\u001b[1;33m\u001b[0m\u001b[1;33m\u001b[0m\u001b[0m\n",
      "\u001b[1;32mC:\\Python\\Python38\\lib\\site-packages\\sklearn\\preprocessing\\_data.py\u001b[0m in \u001b[0;36mscale\u001b[1;34m(X, axis, with_mean, with_std, copy)\u001b[0m\n\u001b[0;32m    138\u001b[0m \u001b[1;33m\u001b[0m\u001b[0m\n\u001b[0;32m    139\u001b[0m     \"\"\"  # noqa\n\u001b[1;32m--> 140\u001b[1;33m     X = check_array(X, accept_sparse='csc', copy=copy, ensure_2d=False,\n\u001b[0m\u001b[0;32m    141\u001b[0m                     \u001b[0mestimator\u001b[0m\u001b[1;33m=\u001b[0m\u001b[1;34m'the scale function'\u001b[0m\u001b[1;33m,\u001b[0m \u001b[0mdtype\u001b[0m\u001b[1;33m=\u001b[0m\u001b[0mFLOAT_DTYPES\u001b[0m\u001b[1;33m,\u001b[0m\u001b[1;33m\u001b[0m\u001b[1;33m\u001b[0m\u001b[0m\n\u001b[0;32m    142\u001b[0m                     force_all_finite='allow-nan')\n",
      "\u001b[1;32mC:\\Python\\Python38\\lib\\site-packages\\sklearn\\utils\\validation.py\u001b[0m in \u001b[0;36mcheck_array\u001b[1;34m(array, accept_sparse, accept_large_sparse, dtype, order, copy, force_all_finite, ensure_2d, allow_nd, ensure_min_samples, ensure_min_features, warn_on_dtype, estimator)\u001b[0m\n\u001b[0;32m    529\u001b[0m                     \u001b[0marray\u001b[0m \u001b[1;33m=\u001b[0m \u001b[0marray\u001b[0m\u001b[1;33m.\u001b[0m\u001b[0mastype\u001b[0m\u001b[1;33m(\u001b[0m\u001b[0mdtype\u001b[0m\u001b[1;33m,\u001b[0m \u001b[0mcasting\u001b[0m\u001b[1;33m=\u001b[0m\u001b[1;34m\"unsafe\"\u001b[0m\u001b[1;33m,\u001b[0m \u001b[0mcopy\u001b[0m\u001b[1;33m=\u001b[0m\u001b[1;32mFalse\u001b[0m\u001b[1;33m)\u001b[0m\u001b[1;33m\u001b[0m\u001b[1;33m\u001b[0m\u001b[0m\n\u001b[0;32m    530\u001b[0m                 \u001b[1;32melse\u001b[0m\u001b[1;33m:\u001b[0m\u001b[1;33m\u001b[0m\u001b[1;33m\u001b[0m\u001b[0m\n\u001b[1;32m--> 531\u001b[1;33m                     \u001b[0marray\u001b[0m \u001b[1;33m=\u001b[0m \u001b[0mnp\u001b[0m\u001b[1;33m.\u001b[0m\u001b[0masarray\u001b[0m\u001b[1;33m(\u001b[0m\u001b[0marray\u001b[0m\u001b[1;33m,\u001b[0m \u001b[0morder\u001b[0m\u001b[1;33m=\u001b[0m\u001b[0morder\u001b[0m\u001b[1;33m,\u001b[0m \u001b[0mdtype\u001b[0m\u001b[1;33m=\u001b[0m\u001b[0mdtype\u001b[0m\u001b[1;33m)\u001b[0m\u001b[1;33m\u001b[0m\u001b[1;33m\u001b[0m\u001b[0m\n\u001b[0m\u001b[0;32m    532\u001b[0m             \u001b[1;32mexcept\u001b[0m \u001b[0mComplexWarning\u001b[0m\u001b[1;33m:\u001b[0m\u001b[1;33m\u001b[0m\u001b[1;33m\u001b[0m\u001b[0m\n\u001b[0;32m    533\u001b[0m                 raise ValueError(\"Complex data not supported\\n\"\n",
      "\u001b[1;31mValueError\u001b[0m: could not convert string to float: 'Close'"
     ]
    }
   ],
   "metadata": {}
  },
  {
   "cell_type": "code",
   "execution_count": 17,
   "source": [
    "print(X)"
   ],
   "outputs": [
    {
     "output_type": "stream",
     "name": "stdout",
     "text": [
      "Empty DataFrame\n",
      "Columns: []\n",
      "Index: []\n"
     ]
    }
   ],
   "metadata": {}
  },
  {
   "cell_type": "code",
   "execution_count": null,
   "source": [],
   "outputs": [],
   "metadata": {}
  }
 ],
 "metadata": {
  "orig_nbformat": 4,
  "language_info": {
   "name": "python",
   "version": "3.8.2",
   "mimetype": "text/x-python",
   "codemirror_mode": {
    "name": "ipython",
    "version": 3
   },
   "pygments_lexer": "ipython3",
   "nbconvert_exporter": "python",
   "file_extension": ".py"
  },
  "kernelspec": {
   "name": "python3",
   "display_name": "Python 3.8.2 64-bit"
  },
  "interpreter": {
   "hash": "e404b59586357c814bc0d3940e75d6763c00a48753b225b81f7716971b8e1741"
  }
 },
 "nbformat": 4,
 "nbformat_minor": 2
}